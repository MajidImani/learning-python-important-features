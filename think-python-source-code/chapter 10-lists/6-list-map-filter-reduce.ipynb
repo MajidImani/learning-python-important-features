{
 "cells": [
  {
   "cell_type": "code",
   "execution_count": 6,
   "id": "543128ac",
   "metadata": {},
   "outputs": [],
   "source": [
    "#As the loop runs, total accumulates the sum of the elements; a variable used this way is sometimes called an accumulator.\n",
    "def add_all(numbers):\n",
    "    total = 0\n",
    "    for x in numbers:\n",
    "        total += x\n",
    "    return total"
   ]
  },
  {
   "cell_type": "code",
   "execution_count": 7,
   "id": "01ebf250",
   "metadata": {},
   "outputs": [
    {
     "data": {
      "text/plain": [
       "10"
      ]
     },
     "execution_count": 7,
     "metadata": {},
     "output_type": "execute_result"
    }
   ],
   "source": [
    "add_all([1,2,3,4])"
   ]
  },
  {
   "cell_type": "code",
   "execution_count": 8,
   "id": "56fbfa1c",
   "metadata": {},
   "outputs": [
    {
     "data": {
      "text/plain": [
       "10"
      ]
     },
     "execution_count": 8,
     "metadata": {},
     "output_type": "execute_result"
    }
   ],
   "source": [
    "#use python built-in function\n",
    "#An operation like this that combines a sequence of elements into a single value is sometimes called reduce\n",
    "sum([1,2,3,4])"
   ]
  },
  {
   "cell_type": "code",
   "execution_count": 12,
   "id": "1b636539",
   "metadata": {},
   "outputs": [],
   "source": [
    "#An operation like capitalize_all is sometimes called a map because it “maps” a function\n",
    "#(in this case the method capitalize) onto each of the elements in a sequence\n",
    "def capitalize_all(items):\n",
    "    result = []\n",
    "    for s in items:\n",
    "        result.append(s.capitalize())\n",
    "    return result"
   ]
  },
  {
   "cell_type": "code",
   "execution_count": 13,
   "id": "abccb866",
   "metadata": {},
   "outputs": [
    {
     "data": {
      "text/plain": [
       "['Aaa', 'Bbb']"
      ]
     },
     "execution_count": 13,
     "metadata": {},
     "output_type": "execute_result"
    }
   ],
   "source": [
    "capitalize_all(['aaa','bBb'])"
   ]
  },
  {
   "cell_type": "code",
   "execution_count": 17,
   "id": "39f3d58d",
   "metadata": {},
   "outputs": [],
   "source": [
    "#An operation like only_upper is called a filter because it selects some of the elements and\n",
    "#ilters out the others.\n",
    "def only_upper(t):\n",
    "    res = []\n",
    "    for s in t:\n",
    "        if s.isupper():\n",
    "            res.append(s)\n",
    "    return res"
   ]
  },
  {
   "cell_type": "code",
   "execution_count": 21,
   "id": "9ae5aa63",
   "metadata": {},
   "outputs": [
    {
     "data": {
      "text/plain": [
       "['BBBB']"
      ]
     },
     "execution_count": 21,
     "metadata": {},
     "output_type": "execute_result"
    }
   ],
   "source": [
    "items = ['aaa','BBBB']\n",
    "only_upper(items)"
   ]
  },
  {
   "cell_type": "code",
   "execution_count": null,
   "id": "bfcb69f8",
   "metadata": {},
   "outputs": [],
   "source": []
  }
 ],
 "metadata": {
  "kernelspec": {
   "display_name": "Python 3 (ipykernel)",
   "language": "python",
   "name": "python3"
  },
  "language_info": {
   "codemirror_mode": {
    "name": "ipython",
    "version": 3
   },
   "file_extension": ".py",
   "mimetype": "text/x-python",
   "name": "python",
   "nbconvert_exporter": "python",
   "pygments_lexer": "ipython3",
   "version": "3.8.9"
  }
 },
 "nbformat": 4,
 "nbformat_minor": 5
}
