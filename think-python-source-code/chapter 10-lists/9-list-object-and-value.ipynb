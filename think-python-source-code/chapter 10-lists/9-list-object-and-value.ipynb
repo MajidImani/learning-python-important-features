{
 "cells": [
  {
   "cell_type": "code",
   "execution_count": 21,
   "id": "a08ee5a6",
   "metadata": {},
   "outputs": [
    {
     "data": {
      "text/plain": [
       "True"
      ]
     },
     "execution_count": 21,
     "metadata": {},
     "output_type": "execute_result"
    }
   ],
   "source": [
    "# In this example, Python only created one string object, and both a and b refer to it. \n",
    "a = 'abcd'\n",
    "b = 'abcd'\n",
    "a is b"
   ]
  },
  {
   "cell_type": "code",
   "execution_count": 22,
   "id": "29a74e64",
   "metadata": {},
   "outputs": [
    {
     "data": {
      "text/plain": [
       "False"
      ]
     },
     "execution_count": 22,
     "metadata": {},
     "output_type": "execute_result"
    }
   ],
   "source": [
    "# But when you create two lists, you get two objects:\n",
    "# In this case we would say that the two lists are equivalent, because they have the same elements, \n",
    "# but not identical, because they are not the same object. If two objects are identical,\n",
    "# they are also equivalent, but if they are equivalent, they are not necessarily identical.\n",
    "# If you evaluate [1, 2, 3], you get a list object whose\n",
    "# value is a sequence of integers. If another list has the same elements, we say it has the\n",
    "# me value, but it is not the same object.\n",
    "a = [1,2,3]\n",
    "b = [1,2,3]\n",
    "a is b"
   ]
  },
  {
   "cell_type": "code",
   "execution_count": 23,
   "id": "29b354b6",
   "metadata": {},
   "outputs": [
    {
     "data": {
      "text/plain": [
       "True"
      ]
     },
     "execution_count": 23,
     "metadata": {},
     "output_type": "execute_result"
    }
   ],
   "source": [
    "a = [1, 2, 3]\n",
    "b = a\n",
    "b is a"
   ]
  },
  {
   "cell_type": "code",
   "execution_count": 24,
   "id": "1a3e898e",
   "metadata": {},
   "outputs": [
    {
     "data": {
      "text/plain": [
       "[42, 2, 3]"
      ]
     },
     "execution_count": 24,
     "metadata": {},
     "output_type": "execute_result"
    }
   ],
   "source": [
    "# If the aliased object is mutable, changes made with one alias affect the other\n",
    "#In general, it is safer to avoid aliasing when you are working with mutable objects.\n",
    "b[0] = 42\n",
    "a"
   ]
  },
  {
   "cell_type": "code",
   "execution_count": 25,
   "id": "02466b47",
   "metadata": {},
   "outputs": [
    {
     "data": {
      "text/plain": [
       "False"
      ]
     },
     "execution_count": 25,
     "metadata": {},
     "output_type": "execute_result"
    }
   ],
   "source": [
    "#For immutable objects like strings, aliasing is not as much of a problem\n",
    "a = 'banana'\n",
    "b = 'banana'\n",
    "b = 'ddddd'\n",
    "a is b"
   ]
  },
  {
   "cell_type": "code",
   "execution_count": null,
   "id": "6bb8f785",
   "metadata": {},
   "outputs": [],
   "source": []
  }
 ],
 "metadata": {
  "kernelspec": {
   "display_name": "Python 3 (ipykernel)",
   "language": "python",
   "name": "python3"
  },
  "language_info": {
   "codemirror_mode": {
    "name": "ipython",
    "version": 3
   },
   "file_extension": ".py",
   "mimetype": "text/x-python",
   "name": "python",
   "nbconvert_exporter": "python",
   "pygments_lexer": "ipython3",
   "version": "3.8.9"
  }
 },
 "nbformat": 4,
 "nbformat_minor": 5
}
