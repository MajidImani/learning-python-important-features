{
 "cells": [
  {
   "cell_type": "code",
   "execution_count": 1,
   "id": "00882712",
   "metadata": {},
   "outputs": [
    {
     "data": {
      "text/plain": [
       "['b', 'c']"
      ]
     },
     "execution_count": 1,
     "metadata": {},
     "output_type": "execute_result"
    }
   ],
   "source": [
    "# When you pass a list to a function, the function gets a reference to the list. If the function\n",
    "# modifies the list, the caller sees the change\n",
    "def delete_head(t):\n",
    "    del t[0]\n",
    "    \n",
    "letters = ['a', 'b', 'c']\n",
    "delete_head(letters)\n",
    "letters"
   ]
  },
  {
   "cell_type": "code",
   "execution_count": 4,
   "id": "cc0aadeb",
   "metadata": {},
   "outputs": [
    {
     "name": "stdout",
     "output_type": "stream",
     "text": [
      "[1, 2, 3] None\n"
     ]
    }
   ],
   "source": [
    "t1 = [1,2]\n",
    "t2 = t1.append(3)\n",
    "print(t1 , t2)"
   ]
  },
  {
   "cell_type": "code",
   "execution_count": 12,
   "id": "bf77b422",
   "metadata": {},
   "outputs": [],
   "source": [
    "def bad_delete_head(t):\n",
    "    print(hex(id(t)))\n",
    "    t = t[1:]\n",
    "    print(hex(id(t[1:])))"
   ]
  },
  {
   "cell_type": "code",
   "execution_count": 14,
   "id": "3baa88a7",
   "metadata": {},
   "outputs": [
    {
     "name": "stdout",
     "output_type": "stream",
     "text": [
      "0x1a740171e40\n",
      "0x1a7401719c0\n",
      "[1, 2, 3, 4]\n"
     ]
    }
   ],
   "source": [
    "t = [1,2,3,4]\n",
    "bad_delete_head(t)\n",
    "print(t)"
   ]
  },
  {
   "cell_type": "code",
   "execution_count": 16,
   "id": "fc8870b9",
   "metadata": {},
   "outputs": [
    {
     "name": "stdout",
     "output_type": "stream",
     "text": [
      "[3, 1, 2] [1, 2, 3]\n"
     ]
    }
   ],
   "source": [
    "# Make copies to avoid aliasing.\n",
    "t = [3,1,2]\n",
    "t2 = t[:]\n",
    "t2.sort()\n",
    "print(t , t2)"
   ]
  },
  {
   "cell_type": "code",
   "execution_count": 17,
   "id": "e6a1f507",
   "metadata": {},
   "outputs": [
    {
     "name": "stdout",
     "output_type": "stream",
     "text": [
      "[3, 1, 2] [1, 2, 3]\n"
     ]
    }
   ],
   "source": [
    "t2 = sorted(t)\n",
    "print(t,t2)"
   ]
  },
  {
   "cell_type": "code",
   "execution_count": null,
   "id": "83349423",
   "metadata": {},
   "outputs": [],
   "source": []
  }
 ],
 "metadata": {
  "kernelspec": {
   "display_name": "Python 3 (ipykernel)",
   "language": "python",
   "name": "python3"
  },
  "language_info": {
   "codemirror_mode": {
    "name": "ipython",
    "version": 3
   },
   "file_extension": ".py",
   "mimetype": "text/x-python",
   "name": "python",
   "nbconvert_exporter": "python",
   "pygments_lexer": "ipython3",
   "version": "3.8.9"
  }
 },
 "nbformat": 4,
 "nbformat_minor": 5
}
