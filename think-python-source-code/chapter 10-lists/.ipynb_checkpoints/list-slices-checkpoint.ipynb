{
 "cells": [
  {
   "cell_type": "code",
   "execution_count": 1,
   "id": "606fb43e",
   "metadata": {},
   "outputs": [],
   "source": [
    "t = ['a', 'b', 'c', 'd', 'e', 'f']"
   ]
  },
  {
   "cell_type": "code",
   "execution_count": 7,
   "id": "548b0ec4",
   "metadata": {},
   "outputs": [
    {
     "data": {
      "text/plain": [
       "['b', 'c']"
      ]
     },
     "execution_count": 7,
     "metadata": {},
     "output_type": "execute_result"
    }
   ],
   "source": [
    "t[1:3]"
   ]
  },
  {
   "cell_type": "code",
   "execution_count": 3,
   "id": "6e476225",
   "metadata": {},
   "outputs": [
    {
     "data": {
      "text/plain": [
       "['a', 'b', 'c', 'd']"
      ]
     },
     "execution_count": 3,
     "metadata": {},
     "output_type": "execute_result"
    }
   ],
   "source": [
    "t[:4]"
   ]
  },
  {
   "cell_type": "code",
   "execution_count": 8,
   "id": "9da47ed7",
   "metadata": {},
   "outputs": [
    {
     "data": {
      "text/plain": [
       "['d', 'e', 'f']"
      ]
     },
     "execution_count": 8,
     "metadata": {},
     "output_type": "execute_result"
    }
   ],
   "source": [
    "t[3:]"
   ]
  },
  {
   "cell_type": "code",
   "execution_count": 12,
   "id": "dbbb879d",
   "metadata": {},
   "outputs": [
    {
     "data": {
      "text/plain": [
       "['a', 'b', 'c', 'd', 'e', 'f']"
      ]
     },
     "execution_count": 12,
     "metadata": {},
     "output_type": "execute_result"
    }
   ],
   "source": [
    "#copy of the whole list\n",
    "t[:]"
   ]
  },
  {
   "cell_type": "code",
   "execution_count": 13,
   "id": "b95219ea",
   "metadata": {},
   "outputs": [],
   "source": [
    "a = t"
   ]
  },
  {
   "cell_type": "code",
   "execution_count": 14,
   "id": "90f5e89b",
   "metadata": {},
   "outputs": [
    {
     "name": "stdout",
     "output_type": "stream",
     "text": [
      "0x133f7e5e340 0x133f7e5e340\n"
     ]
    }
   ],
   "source": [
    "print(hex(id(t)),hex(id(a)))"
   ]
  },
  {
   "cell_type": "code",
   "execution_count": 15,
   "id": "fa4e94d2",
   "metadata": {},
   "outputs": [],
   "source": [
    "b = t[:]"
   ]
  },
  {
   "cell_type": "code",
   "execution_count": 17,
   "id": "62f17fe1",
   "metadata": {},
   "outputs": [
    {
     "name": "stdout",
     "output_type": "stream",
     "text": [
      "0x133f7e5e340 0x133f7e5e340 0x133f7e60a00\n"
     ]
    }
   ],
   "source": [
    "# b have a different address\n",
    "print(hex(id(t)),hex(id(a)),hex(id(b))) "
   ]
  },
  {
   "cell_type": "code",
   "execution_count": 18,
   "id": "80da2f58",
   "metadata": {},
   "outputs": [],
   "source": [
    "t[1:3] = ['x','y']"
   ]
  },
  {
   "cell_type": "code",
   "execution_count": 19,
   "id": "ad861cd3",
   "metadata": {},
   "outputs": [
    {
     "data": {
      "text/plain": [
       "['a', 'x', 'y', 'd', 'e', 'f']"
      ]
     },
     "execution_count": 19,
     "metadata": {},
     "output_type": "execute_result"
    }
   ],
   "source": [
    "t"
   ]
  },
  {
   "cell_type": "code",
   "execution_count": null,
   "id": "f9e8e7d7",
   "metadata": {},
   "outputs": [],
   "source": []
  },
  {
   "cell_type": "code",
   "execution_count": null,
   "id": "1f0d770f",
   "metadata": {},
   "outputs": [],
   "source": []
  }
 ],
 "metadata": {
  "kernelspec": {
   "display_name": "Python 3 (ipykernel)",
   "language": "python",
   "name": "python3"
  },
  "language_info": {
   "codemirror_mode": {
    "name": "ipython",
    "version": 3
   },
   "file_extension": ".py",
   "mimetype": "text/x-python",
   "name": "python",
   "nbconvert_exporter": "python",
   "pygments_lexer": "ipython3",
   "version": "3.8.9"
  }
 },
 "nbformat": 4,
 "nbformat_minor": 5
}
