{
 "cells": [
  {
   "cell_type": "code",
   "execution_count": 26,
   "id": "22152a88",
   "metadata": {},
   "outputs": [],
   "source": [
    "# Unlike strings, lists are mutable\n",
    "items = ['spam', 2.0, 5, [10, 20]]"
   ]
  },
  {
   "cell_type": "code",
   "execution_count": 27,
   "id": "19d1851d",
   "metadata": {},
   "outputs": [],
   "source": [
    "empty = []"
   ]
  },
  {
   "cell_type": "code",
   "execution_count": 28,
   "id": "eaaf0432",
   "metadata": {},
   "outputs": [],
   "source": [
    "numbers = [42, 123]"
   ]
  },
  {
   "cell_type": "code",
   "execution_count": 29,
   "id": "43750b87",
   "metadata": {},
   "outputs": [
    {
     "name": "stdout",
     "output_type": "stream",
     "text": [
      "['spam', 2.0, 5, [10, 20]] [] [42, 123]\n"
     ]
    }
   ],
   "source": [
    "print(items, empty, numbers)"
   ]
  },
  {
   "cell_type": "code",
   "execution_count": 30,
   "id": "35f034c3",
   "metadata": {},
   "outputs": [],
   "source": [
    "numbers[1] = 5"
   ]
  },
  {
   "cell_type": "code",
   "execution_count": 31,
   "id": "3a0622b0",
   "metadata": {},
   "outputs": [
    {
     "name": "stdout",
     "output_type": "stream",
     "text": [
      "[42, 5]\n"
     ]
    }
   ],
   "source": [
    "print(numbers)"
   ]
  },
  {
   "cell_type": "code",
   "execution_count": 32,
   "id": "28742522",
   "metadata": {},
   "outputs": [
    {
     "data": {
      "text/plain": [
       "5"
      ]
     },
     "execution_count": 32,
     "metadata": {},
     "output_type": "execute_result"
    }
   ],
   "source": [
    "numbers[-1]"
   ]
  },
  {
   "cell_type": "code",
   "execution_count": 33,
   "id": "64805d94",
   "metadata": {},
   "outputs": [
    {
     "data": {
      "text/plain": [
       "True"
      ]
     },
     "execution_count": 33,
     "metadata": {},
     "output_type": "execute_result"
    }
   ],
   "source": [
    "42 in numbers"
   ]
  },
  {
   "cell_type": "code",
   "execution_count": 34,
   "id": "174ce8b1",
   "metadata": {},
   "outputs": [
    {
     "data": {
      "text/plain": [
       "False"
      ]
     },
     "execution_count": 34,
     "metadata": {},
     "output_type": "execute_result"
    }
   ],
   "source": [
    "70 in numbers"
   ]
  },
  {
   "cell_type": "code",
   "execution_count": null,
   "id": "95151de1",
   "metadata": {},
   "outputs": [],
   "source": []
  },
  {
   "cell_type": "code",
   "execution_count": null,
   "id": "5d3e9cad",
   "metadata": {},
   "outputs": [],
   "source": []
  }
 ],
 "metadata": {
  "kernelspec": {
   "display_name": "Python 3 (ipykernel)",
   "language": "python",
   "name": "python3"
  },
  "language_info": {
   "codemirror_mode": {
    "name": "ipython",
    "version": 3
   },
   "file_extension": ".py",
   "mimetype": "text/x-python",
   "name": "python",
   "nbconvert_exporter": "python",
   "pygments_lexer": "ipython3",
   "version": "3.8.9"
  }
 },
 "nbformat": 4,
 "nbformat_minor": 5
}
