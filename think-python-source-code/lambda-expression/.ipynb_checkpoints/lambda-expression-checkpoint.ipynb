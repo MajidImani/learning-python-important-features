{
 "cells": [
  {
   "cell_type": "code",
   "execution_count": 5,
   "id": "4a1b2852",
   "metadata": {},
   "outputs": [
    {
     "data": {
      "text/plain": [
       "3"
      ]
     },
     "execution_count": 5,
     "metadata": {},
     "output_type": "execute_result"
    }
   ],
   "source": [
    "(lambda x: x + 1)(2)"
   ]
  },
  {
   "cell_type": "code",
   "execution_count": 9,
   "id": "b33554aa",
   "metadata": {},
   "outputs": [
    {
     "data": {
      "text/plain": [
       "3"
      ]
     },
     "execution_count": 9,
     "metadata": {},
     "output_type": "execute_result"
    }
   ],
   "source": [
    "add_one = lambda x: x + 1\n",
    "add_one(2)"
   ]
  },
  {
   "cell_type": "code",
   "execution_count": 11,
   "id": "633d309a",
   "metadata": {},
   "outputs": [
    {
     "data": {
      "text/plain": [
       "5"
      ]
     },
     "execution_count": 11,
     "metadata": {},
     "output_type": "execute_result"
    }
   ],
   "source": [
    "(lambda x, y: x + y)(2,3)"
   ]
  },
  {
   "cell_type": "code",
   "execution_count": 16,
   "id": "3a6e3ce0",
   "metadata": {},
   "outputs": [],
   "source": [
    "div_zero = lambda x: x / 0"
   ]
  },
  {
   "cell_type": "code",
   "execution_count": 17,
   "id": "206b9ab3",
   "metadata": {},
   "outputs": [],
   "source": [
    "def div_zero(x): return x / 0"
   ]
  },
  {
   "cell_type": "code",
   "execution_count": 19,
   "id": "f8fbb125",
   "metadata": {},
   "outputs": [
    {
     "data": {
      "text/plain": [
       "9"
      ]
     },
     "execution_count": 19,
     "metadata": {},
     "output_type": "execute_result"
    }
   ],
   "source": [
    "(lambda x: x * x)(3)"
   ]
  },
  {
   "cell_type": "code",
   "execution_count": 21,
   "id": "58a88577",
   "metadata": {},
   "outputs": [
    {
     "data": {
      "text/plain": [
       "6"
      ]
     },
     "execution_count": 21,
     "metadata": {},
     "output_type": "execute_result"
    }
   ],
   "source": [
    "(lambda x, y, z: x + y + z)(1, 2, 3)"
   ]
  },
  {
   "cell_type": "code",
   "execution_count": null,
   "id": "f14e204e",
   "metadata": {},
   "outputs": [],
   "source": []
  }
 ],
 "metadata": {
  "kernelspec": {
   "display_name": "Python 3 (ipykernel)",
   "language": "python",
   "name": "python3"
  },
  "language_info": {
   "codemirror_mode": {
    "name": "ipython",
    "version": 3
   },
   "file_extension": ".py",
   "mimetype": "text/x-python",
   "name": "python",
   "nbconvert_exporter": "python",
   "pygments_lexer": "ipython3",
   "version": "3.10.1"
  }
 },
 "nbformat": 4,
 "nbformat_minor": 5
}
