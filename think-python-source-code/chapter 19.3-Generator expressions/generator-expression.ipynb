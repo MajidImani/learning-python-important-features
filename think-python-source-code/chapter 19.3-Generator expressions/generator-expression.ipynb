{
 "cells": [
  {
   "cell_type": "code",
   "execution_count": 82,
   "id": "b74cdc44",
   "metadata": {},
   "outputs": [],
   "source": [
    "g = (x**2 for x in range(10))"
   ]
  },
  {
   "cell_type": "code",
   "execution_count": 83,
   "id": "a42a5d45",
   "metadata": {},
   "outputs": [
    {
     "name": "stdout",
     "output_type": "stream",
     "text": [
      "0\n",
      "1\n",
      "4\n",
      "9\n",
      "16\n",
      "25\n",
      "36\n",
      "49\n",
      "64\n",
      "81\n"
     ]
    }
   ],
   "source": [
    "for val in g:\n",
    "    print(val)"
   ]
  },
  {
   "cell_type": "code",
   "execution_count": 84,
   "id": "bcf18ff2",
   "metadata": {},
   "outputs": [
    {
     "data": {
      "text/plain": [
       "30"
      ]
     },
     "execution_count": 84,
     "metadata": {},
     "output_type": "execute_result"
    }
   ],
   "source": [
    " sum(x**2 for x in range(5))"
   ]
  },
  {
   "cell_type": "code",
   "execution_count": null,
   "id": "8529e9f7",
   "metadata": {},
   "outputs": [],
   "source": []
  }
 ],
 "metadata": {
  "kernelspec": {
   "display_name": "Python 3 (ipykernel)",
   "language": "python",
   "name": "python3"
  },
  "language_info": {
   "codemirror_mode": {
    "name": "ipython",
    "version": 3
   },
   "file_extension": ".py",
   "mimetype": "text/x-python",
   "name": "python",
   "nbconvert_exporter": "python",
   "pygments_lexer": "ipython3",
   "version": "3.10.1"
  }
 },
 "nbformat": 4,
 "nbformat_minor": 5
}
