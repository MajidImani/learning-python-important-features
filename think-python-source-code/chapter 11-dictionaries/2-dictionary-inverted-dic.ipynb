{
 "cells": [
  {
   "cell_type": "code",
   "execution_count": 1,
   "id": "694866c8",
   "metadata": {},
   "outputs": [],
   "source": [
    "def invert_dict(dic):\n",
    "    inverse = dict()\n",
    "    for key in dic:\n",
    "        val = dic[key]\n",
    "        if val not in inverse:\n",
    "            inverse[val] = [key]\n",
    "        else:\n",
    "            inverse[val].append(key)\n",
    "    return inverse"
   ]
  },
  {
   "cell_type": "code",
   "execution_count": 12,
   "id": "73c4f77f",
   "metadata": {},
   "outputs": [],
   "source": [
    "def histogram(s):\n",
    "    h = dict()\n",
    "    for c in s:\n",
    "        if c in h:\n",
    "            h[c]+=1\n",
    "        else: \n",
    "            h[c] = 1\n",
    "    return h"
   ]
  },
  {
   "cell_type": "code",
   "execution_count": 3,
   "id": "c8ee9fc3",
   "metadata": {},
   "outputs": [],
   "source": [
    "h = histogram('parrot')"
   ]
  },
  {
   "cell_type": "code",
   "execution_count": 9,
   "id": "4f651216",
   "metadata": {},
   "outputs": [
    {
     "data": {
      "text/plain": [
       "{'p': 1, 'a': 1, 'r': 2, 'o': 1, 't': 1}"
      ]
     },
     "execution_count": 9,
     "metadata": {},
     "output_type": "execute_result"
    }
   ],
   "source": [
    "h"
   ]
  },
  {
   "cell_type": "code",
   "execution_count": 13,
   "id": "e31baa0b",
   "metadata": {},
   "outputs": [
    {
     "data": {
      "text/plain": [
       "{1: ['p', 'a', 'o', 't'], 2: ['r']}"
      ]
     },
     "execution_count": 13,
     "metadata": {},
     "output_type": "execute_result"
    }
   ],
   "source": [
    "invert_dict(h)"
   ]
  },
  {
   "cell_type": "code",
   "execution_count": null,
   "id": "8bf7f1b2",
   "metadata": {},
   "outputs": [],
   "source": []
  }
 ],
 "metadata": {
  "kernelspec": {
   "display_name": "Python 3 (ipykernel)",
   "language": "python",
   "name": "python3"
  },
  "language_info": {
   "codemirror_mode": {
    "name": "ipython",
    "version": 3
   },
   "file_extension": ".py",
   "mimetype": "text/x-python",
   "name": "python",
   "nbconvert_exporter": "python",
   "pygments_lexer": "ipython3",
   "version": "3.8.9"
  }
 },
 "nbformat": 4,
 "nbformat_minor": 5
}
